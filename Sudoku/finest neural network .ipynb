{
 "cells": [
  {
   "cell_type": "code",
   "execution_count": 1,
   "metadata": {},
   "outputs": [],
   "source": [
    "import tensorflow"
   ]
  },
  {
   "cell_type": "code",
   "execution_count": 2,
   "metadata": {},
   "outputs": [
    {
     "name": "stdout",
     "output_type": "stream",
     "text": [
      "ERROR! Session/line number was not unique in database. History logging moved to new session 142\n"
     ]
    }
   ],
   "source": [
    "from tensorflow.keras.datasets import mnist"
   ]
  },
  {
   "cell_type": "code",
   "execution_count": 3,
   "metadata": {},
   "outputs": [],
   "source": [
    "((trainData, trainLabels), (testData, testLabels)) = mnist.load_data()"
   ]
  },
  {
   "cell_type": "code",
   "execution_count": 4,
   "metadata": {},
   "outputs": [],
   "source": [
    "trainData = trainData.reshape((trainData.shape[0], 28, 28, 1))\n",
    "testData = testData.reshape((testData.shape[0], 28, 28, 1))"
   ]
  },
  {
   "cell_type": "code",
   "execution_count": 5,
   "metadata": {},
   "outputs": [],
   "source": [
    "trainData = trainData.astype(\"float32\") / 255.0\n",
    "testData = testData.astype(\"float32\") / 255.0"
   ]
  },
  {
   "cell_type": "code",
   "execution_count": 6,
   "metadata": {},
   "outputs": [],
   "source": [
    "from sklearn.preprocessing import LabelBinarizer\n",
    "from sklearn.metrics import classification_report"
   ]
  },
  {
   "cell_type": "code",
   "execution_count": 7,
   "metadata": {},
   "outputs": [],
   "source": [
    "le = LabelBinarizer()\n",
    "trainLabels = le.fit_transform(trainLabels)\n",
    "testLabels = le.transform(testLabels)"
   ]
  },
  {
   "cell_type": "markdown",
   "metadata": {},
   "source": [
    "some model parameters"
   ]
  },
  {
   "cell_type": "code",
   "execution_count": 8,
   "metadata": {},
   "outputs": [],
   "source": [
    "INIT_LR = 1e-3\n",
    "EPOCHS = 10\n",
    "BS = 128\n"
   ]
  },
  {
   "cell_type": "markdown",
   "metadata": {},
   "source": [
    "building model"
   ]
  },
  {
   "cell_type": "code",
   "execution_count": 9,
   "metadata": {},
   "outputs": [],
   "source": [
    "from tensorflow.keras.models import Sequential\n",
    "from tensorflow.keras.layers import Conv2D\n",
    "from tensorflow.keras.layers import MaxPooling2D\n",
    "from tensorflow.keras.layers import Activation\n",
    "from tensorflow.keras.layers import Flatten\n",
    "from tensorflow.keras.layers import Dense\n",
    "from tensorflow.keras.layers import Dropout"
   ]
  },
  {
   "cell_type": "code",
   "execution_count": 10,
   "metadata": {},
   "outputs": [
    {
     "name": "stdout",
     "output_type": "stream",
     "text": [
      "ERROR! Session/line number was not unique in database. History logging moved to new session 143\n"
     ]
    }
   ],
   "source": [
    "model = Sequential()\n",
    "inputShape = (28, 28, 1)\n",
    "model.add(Conv2D(32, (5,5), padding=\"same\", input_shape= inputShape))\n",
    "model.add(Activation(\"relu\"))\n",
    "model.add(MaxPooling2D(pool_size=(2,2)))\n",
    "\n",
    "model.add(Conv2D(32, (3,3), padding=\"same\"))\n",
    "model.add(Activation(\"relu\"))\n",
    "model.add(MaxPooling2D(pool_size=(2,2)))\n",
    "\n",
    "model.add(Flatten())\n",
    "model.add(Dense(64))\n",
    "model.add(Activation(\"relu\"))\n",
    "model.add(Dropout(0.5))\n",
    "\n",
    "model.add(Dense(64))\n",
    "model.add(Activation(\"relu\"))\n",
    "model.add(Dropout(0.5))\n",
    "\n",
    "model.add(Dense(64))\n",
    "model.add(Activation(\"relu\"))\n",
    "model.add(Dropout(0.25))\n",
    "\n",
    "model.add(Dense(10))\n",
    "model.add(Activation(\"softmax\"))"
   ]
  },
  {
   "cell_type": "code",
   "execution_count": 11,
   "metadata": {},
   "outputs": [
    {
     "name": "stdout",
     "output_type": "stream",
     "text": [
      "ERROR! Session/line number was not unique in database. History logging moved to new session 144\n"
     ]
    }
   ],
   "source": [
    "from tensorflow.keras.optimizers import Adam"
   ]
  },
  {
   "cell_type": "code",
   "execution_count": 12,
   "metadata": {},
   "outputs": [],
   "source": [
    "opt = Adam(lr=INIT_LR)"
   ]
  },
  {
   "cell_type": "code",
   "execution_count": 13,
   "metadata": {},
   "outputs": [],
   "source": [
    "model.compile(loss=\"categorical_crossentropy\", optimizer=opt, metrics=[\"accuracy\"])"
   ]
  },
  {
   "cell_type": "code",
   "execution_count": 14,
   "metadata": {},
   "outputs": [
    {
     "name": "stdout",
     "output_type": "stream",
     "text": [
      "Train on 60000 samples, validate on 10000 samples\n",
      "Epoch 1/10\n",
      "WARNING:tensorflow:Entity <function Function._initialize_uninitialized_variables.<locals>.initialize_variables at 0x00000123013D8948> could not be transformed and will be executed as-is. Please report this to the AutoGraph team. When filing the bug, set the verbosity to 10 (on Linux, `export AUTOGRAPH_VERBOSITY=10`) and attach the full output. Cause: No module named 'tensorflow_core.estimator'\n"
     ]
    },
    {
     "name": "stderr",
     "output_type": "stream",
     "text": [
      "WARNING:tensorflow:Entity <function Function._initialize_uninitialized_variables.<locals>.initialize_variables at 0x00000123013D8948> could not be transformed and will be executed as-is. Please report this to the AutoGraph team. When filing the bug, set the verbosity to 10 (on Linux, `export AUTOGRAPH_VERBOSITY=10`) and attach the full output. Cause: No module named 'tensorflow_core.estimator'\n"
     ]
    },
    {
     "name": "stdout",
     "output_type": "stream",
     "text": [
      "WARNING: Entity <function Function._initialize_uninitialized_variables.<locals>.initialize_variables at 0x00000123013D8948> could not be transformed and will be executed as-is. Please report this to the AutoGraph team. When filing the bug, set the verbosity to 10 (on Linux, `export AUTOGRAPH_VERBOSITY=10`) and attach the full output. Cause: No module named 'tensorflow_core.estimator'\n",
      "60000/60000 [==============================] - 45s 751us/sample - loss: 0.8667 - accuracy: 0.7015 - val_loss: 0.1106 - val_accuracy: 0.9706\n",
      "Epoch 2/10\n",
      "60000/60000 [==============================] - 43s 721us/sample - loss: 0.3262 - accuracy: 0.9057 - val_loss: 0.0709 - val_accuracy: 0.9820\n",
      "Epoch 3/10\n",
      "60000/60000 [==============================] - 48s 794us/sample - loss: 0.2443 - accuracy: 0.9309 - val_loss: 0.0540 - val_accuracy: 0.9856\n",
      "Epoch 4/10\n",
      "60000/60000 [==============================] - 55s 918us/sample - loss: 0.2066 - accuracy: 0.9408 - val_loss: 0.0497 - val_accuracy: 0.9874\n",
      "Epoch 5/10\n",
      "60000/60000 [==============================] - 50s 841us/sample - loss: 0.1860 - accuracy: 0.9478 - val_loss: 0.0416 - val_accuracy: 0.9885\n",
      "Epoch 6/10\n",
      "60000/60000 [==============================] - 49s 814us/sample - loss: 0.1697 - accuracy: 0.9522 - val_loss: 0.0392 - val_accuracy: 0.9889\n",
      "Epoch 7/10\n",
      "60000/60000 [==============================] - 46s 763us/sample - loss: 0.1558 - accuracy: 0.9567 - val_loss: 0.0394 - val_accuracy: 0.9885\n",
      "Epoch 8/10\n",
      "60000/60000 [==============================] - 44s 733us/sample - loss: 0.1429 - accuracy: 0.9599 - val_loss: 0.0358 - val_accuracy: 0.9890\n",
      "Epoch 9/10\n",
      "60000/60000 [==============================] - 55s 916us/sample - loss: 0.1338 - accuracy: 0.9631 - val_loss: 0.0297 - val_accuracy: 0.9919\n",
      "Epoch 10/10\n",
      "60000/60000 [==============================] - 48s 805us/sample - loss: 0.1244 - accuracy: 0.9651 - val_loss: 0.0346 - val_accuracy: 0.9896\n"
     ]
    }
   ],
   "source": [
    "H = model.fit(trainData, trainLabels, validation_data=(testData, testLabels),\n",
    "\tbatch_size=BS, epochs=EPOCHS, verbose=1)"
   ]
  },
  {
   "cell_type": "code",
   "execution_count": 102,
   "metadata": {},
   "outputs": [],
   "source": [
    "%store -r extracted_digits"
   ]
  },
  {
   "cell_type": "code",
   "execution_count": 103,
   "metadata": {},
   "outputs": [
    {
     "name": "stdout",
     "output_type": "stream",
     "text": [
      "31 number of cells which are non-empty\n"
     ]
    }
   ],
   "source": [
    "import cv2\n",
    "import numpy as np\n",
    "present = 0\n",
    "from tensorflow.keras.preprocessing.image import img_to_array\n",
    "board = np.zeros((9,9), dtype='int')\n",
    "for i in range(81):\n",
    "    if extracted_digits[i] is not None:\n",
    "        present+=1\n",
    "        value = cv2.resize(extracted_digits[i], (28,28))\n",
    "        value = value.astype(\"float\") / 255.00\n",
    "        value = img_to_array(value)\n",
    "        value = np.expand_dims(value, axis=0)\n",
    "        prediction = model.predict(value) \n",
    "        board[i // 9][i%9] = np.argmax(prediction)\n",
    "print( present, \"number of cells which are non-empty\")"
   ]
  },
  {
   "cell_type": "code",
   "execution_count": 106,
   "metadata": {},
   "outputs": [
    {
     "name": "stdout",
     "output_type": "stream",
     "text": [
      "0  0  4  1  9  9  0  7  0  \n",
      "\n",
      "1  0  0  0  0  3  0  3  0  \n",
      "\n",
      "0  0  9  0  0  0  4  0  0  \n",
      "\n",
      "0  0  6  7  0  0  0  3  0  \n",
      "\n",
      "6  0  2  0  0  0  2  0  0  \n",
      "\n",
      "0  1  0  0  0  0  3  0  0  \n",
      "\n",
      "0  0  8  0  0  0  7  0  0  \n",
      "\n",
      "0  5  0  6  0  0  0  0  3  \n",
      "\n",
      "6  0  0  5  8  9  3  0  0  \n",
      "\n"
     ]
    }
   ],
   "source": [
    "for i in range(9):\n",
    "    for j in range(9):\n",
    "        print(board[i][j], end = \"  \")\n",
    "    print('\\n')"
   ]
  },
  {
   "cell_type": "code",
   "execution_count": null,
   "metadata": {},
   "outputs": [],
   "source": []
  }
 ],
 "metadata": {
  "kernelspec": {
   "display_name": "Python 3.7.9 64-bit",
   "language": "python",
   "name": "python37964bit3b03840a6e2241b6b43fa605f71ad282"
  },
  "language_info": {
   "codemirror_mode": {
    "name": "ipython",
    "version": 3
   },
   "file_extension": ".py",
   "mimetype": "text/x-python",
   "name": "python",
   "nbconvert_exporter": "python",
   "pygments_lexer": "ipython3",
   "version": "3.7.9"
  }
 },
 "nbformat": 4,
 "nbformat_minor": 4
}
